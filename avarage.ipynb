{
 "cells": [
  {
   "cell_type": "code",
   "execution_count": 1,
   "metadata": {},
   "outputs": [],
   "source": [
    "import pandas as pd\n"
   ]
  },
  {
   "cell_type": "code",
   "execution_count": 2,
   "metadata": {},
   "outputs": [],
   "source": [
    "df=pd.read_csv('tem_data.csv')"
   ]
  },
  {
   "cell_type": "code",
   "execution_count": 3,
   "metadata": {},
   "outputs": [
    {
     "data": {
      "text/html": [
       "<div>\n",
       "<style scoped>\n",
       "    .dataframe tbody tr th:only-of-type {\n",
       "        vertical-align: middle;\n",
       "    }\n",
       "\n",
       "    .dataframe tbody tr th {\n",
       "        vertical-align: top;\n",
       "    }\n",
       "\n",
       "    .dataframe thead th {\n",
       "        text-align: right;\n",
       "    }\n",
       "</style>\n",
       "<table border=\"1\" class=\"dataframe\">\n",
       "  <thead>\n",
       "    <tr style=\"text-align: right;\">\n",
       "      <th></th>\n",
       "      <th>day</th>\n",
       "      <th>city</th>\n",
       "      <th>tem</th>\n",
       "      <th>win</th>\n",
       "      <th>event</th>\n",
       "    </tr>\n",
       "  </thead>\n",
       "  <tbody>\n",
       "    <tr>\n",
       "      <th>0</th>\n",
       "      <td>1/1/2020</td>\n",
       "      <td>Dhaka</td>\n",
       "      <td>36</td>\n",
       "      <td>12</td>\n",
       "      <td>rain</td>\n",
       "    </tr>\n",
       "    <tr>\n",
       "      <th>1</th>\n",
       "      <td>1/2/2020</td>\n",
       "      <td>Dhaka</td>\n",
       "      <td>32</td>\n",
       "      <td>1</td>\n",
       "      <td>snow</td>\n",
       "    </tr>\n",
       "    <tr>\n",
       "      <th>2</th>\n",
       "      <td>1/3/2020</td>\n",
       "      <td>Dhaka</td>\n",
       "      <td>35</td>\n",
       "      <td>2</td>\n",
       "      <td>snow</td>\n",
       "    </tr>\n",
       "    <tr>\n",
       "      <th>3</th>\n",
       "      <td>1/4/2020</td>\n",
       "      <td>Dhaka</td>\n",
       "      <td>34</td>\n",
       "      <td>3</td>\n",
       "      <td>rag</td>\n",
       "    </tr>\n",
       "    <tr>\n",
       "      <th>4</th>\n",
       "      <td>1/5/2020</td>\n",
       "      <td>Dhaka</td>\n",
       "      <td>37</td>\n",
       "      <td>3</td>\n",
       "      <td>rain</td>\n",
       "    </tr>\n",
       "    <tr>\n",
       "      <th>5</th>\n",
       "      <td>1/6/2020</td>\n",
       "      <td>newyourk</td>\n",
       "      <td>20</td>\n",
       "      <td>5</td>\n",
       "      <td>snow</td>\n",
       "    </tr>\n",
       "    <tr>\n",
       "      <th>6</th>\n",
       "      <td>1/7/2020</td>\n",
       "      <td>newyourk</td>\n",
       "      <td>24</td>\n",
       "      <td>3</td>\n",
       "      <td>snow</td>\n",
       "    </tr>\n",
       "    <tr>\n",
       "      <th>7</th>\n",
       "      <td>1/8/2020</td>\n",
       "      <td>newyourk</td>\n",
       "      <td>21</td>\n",
       "      <td>2</td>\n",
       "      <td>snow</td>\n",
       "    </tr>\n",
       "    <tr>\n",
       "      <th>8</th>\n",
       "      <td>1/9/2020</td>\n",
       "      <td>newyourk</td>\n",
       "      <td>25</td>\n",
       "      <td>1</td>\n",
       "      <td>rain</td>\n",
       "    </tr>\n",
       "    <tr>\n",
       "      <th>9</th>\n",
       "      <td>1/10/2020</td>\n",
       "      <td>newyourk</td>\n",
       "      <td>26</td>\n",
       "      <td>4</td>\n",
       "      <td>rain</td>\n",
       "    </tr>\n",
       "    <tr>\n",
       "      <th>10</th>\n",
       "      <td>1/11/2020</td>\n",
       "      <td>newyourk</td>\n",
       "      <td>20</td>\n",
       "      <td>5</td>\n",
       "      <td>rag</td>\n",
       "    </tr>\n",
       "    <tr>\n",
       "      <th>11</th>\n",
       "      <td>1/12/2020</td>\n",
       "      <td>mumbai</td>\n",
       "      <td>40</td>\n",
       "      <td>10</td>\n",
       "      <td>rain</td>\n",
       "    </tr>\n",
       "    <tr>\n",
       "      <th>12</th>\n",
       "      <td>1/13/2020</td>\n",
       "      <td>mumbai</td>\n",
       "      <td>41</td>\n",
       "      <td>12</td>\n",
       "      <td>snow</td>\n",
       "    </tr>\n",
       "    <tr>\n",
       "      <th>13</th>\n",
       "      <td>1/14/2020</td>\n",
       "      <td>mumbai</td>\n",
       "      <td>20</td>\n",
       "      <td>14</td>\n",
       "      <td>snow</td>\n",
       "    </tr>\n",
       "    <tr>\n",
       "      <th>14</th>\n",
       "      <td>1/15/2020</td>\n",
       "      <td>mumbai</td>\n",
       "      <td>50</td>\n",
       "      <td>10</td>\n",
       "      <td>snow</td>\n",
       "    </tr>\n",
       "    <tr>\n",
       "      <th>15</th>\n",
       "      <td>1/16/2020</td>\n",
       "      <td>mumbai</td>\n",
       "      <td>41</td>\n",
       "      <td>1</td>\n",
       "      <td>rain</td>\n",
       "    </tr>\n",
       "    <tr>\n",
       "      <th>16</th>\n",
       "      <td>1/17/2020</td>\n",
       "      <td>mumbai</td>\n",
       "      <td>25</td>\n",
       "      <td>2</td>\n",
       "      <td>rain</td>\n",
       "    </tr>\n",
       "  </tbody>\n",
       "</table>\n",
       "</div>"
      ],
      "text/plain": [
       "         day       city  tem  win  event\n",
       "0    1/1/2020     Dhaka   36    12  rain\n",
       "1    1/2/2020     Dhaka   32     1  snow\n",
       "2    1/3/2020     Dhaka   35     2  snow\n",
       "3    1/4/2020     Dhaka   34     3   rag\n",
       "4    1/5/2020     Dhaka   37     3  rain\n",
       "5    1/6/2020  newyourk   20     5  snow\n",
       "6    1/7/2020  newyourk   24     3  snow\n",
       "7    1/8/2020  newyourk   21     2  snow\n",
       "8    1/9/2020  newyourk   25     1  rain\n",
       "9   1/10/2020  newyourk   26     4  rain\n",
       "10  1/11/2020  newyourk   20     5   rag\n",
       "11  1/12/2020    mumbai   40    10  rain\n",
       "12  1/13/2020    mumbai   41    12  snow\n",
       "13  1/14/2020    mumbai   20    14  snow\n",
       "14  1/15/2020    mumbai   50    10  snow\n",
       "15  1/16/2020    mumbai   41     1  rain\n",
       "16  1/17/2020    mumbai   25     2  rain"
      ]
     },
     "execution_count": 3,
     "metadata": {},
     "output_type": "execute_result"
    }
   ],
   "source": [
    "df"
   ]
  },
  {
   "cell_type": "code",
   "execution_count": 4,
   "metadata": {},
   "outputs": [],
   "source": [
    "g=df.groupby('city')"
   ]
  },
  {
   "cell_type": "code",
   "execution_count": 5,
   "metadata": {},
   "outputs": [
    {
     "data": {
      "text/plain": [
       "<pandas.core.groupby.generic.DataFrameGroupBy object at 0x000001DC5B501760>"
      ]
     },
     "execution_count": 5,
     "metadata": {},
     "output_type": "execute_result"
    }
   ],
   "source": [
    "g"
   ]
  },
  {
   "cell_type": "code",
   "execution_count": 6,
   "metadata": {},
   "outputs": [
    {
     "name": "stdout",
     "output_type": "stream",
     "text": [
      "Dhaka\n",
      "       day    city  tem  win  event\n",
      "0  1/1/2020  Dhaka   36    12  rain\n",
      "1  1/2/2020  Dhaka   32     1  snow\n",
      "2  1/3/2020  Dhaka   35     2  snow\n",
      "3  1/4/2020  Dhaka   34     3   rag\n",
      "4  1/5/2020  Dhaka   37     3  rain\n",
      "mumbai\n",
      "         day     city  tem  win  event\n",
      "11  1/12/2020  mumbai   40    10  rain\n",
      "12  1/13/2020  mumbai   41    12  snow\n",
      "13  1/14/2020  mumbai   20    14  snow\n",
      "14  1/15/2020  mumbai   50    10  snow\n",
      "15  1/16/2020  mumbai   41     1  rain\n",
      "16  1/17/2020  mumbai   25     2  rain\n",
      "newyourk\n",
      "         day       city  tem  win  event\n",
      "5    1/6/2020  newyourk   20     5  snow\n",
      "6    1/7/2020  newyourk   24     3  snow\n",
      "7    1/8/2020  newyourk   21     2  snow\n",
      "8    1/9/2020  newyourk   25     1  rain\n",
      "9   1/10/2020  newyourk   26     4  rain\n",
      "10  1/11/2020  newyourk   20     5   rag\n"
     ]
    }
   ],
   "source": [
    "for city,city_data in g:\n",
    "    print(city)\n",
    "    print(city_data)"
   ]
  },
  {
   "cell_type": "code",
   "execution_count": 17,
   "metadata": {},
   "outputs": [
    {
     "data": {
      "text/html": [
       "<div>\n",
       "<style scoped>\n",
       "    .dataframe tbody tr th:only-of-type {\n",
       "        vertical-align: middle;\n",
       "    }\n",
       "\n",
       "    .dataframe tbody tr th {\n",
       "        vertical-align: top;\n",
       "    }\n",
       "\n",
       "    .dataframe thead tr th {\n",
       "        text-align: left;\n",
       "    }\n",
       "\n",
       "    .dataframe thead tr:last-of-type th {\n",
       "        text-align: right;\n",
       "    }\n",
       "</style>\n",
       "<table border=\"1\" class=\"dataframe\">\n",
       "  <thead>\n",
       "    <tr>\n",
       "      <th></th>\n",
       "      <th colspan=\"8\" halign=\"left\">tem</th>\n",
       "      <th colspan=\"8\" halign=\"left\">win</th>\n",
       "    </tr>\n",
       "    <tr>\n",
       "      <th></th>\n",
       "      <th>count</th>\n",
       "      <th>mean</th>\n",
       "      <th>std</th>\n",
       "      <th>min</th>\n",
       "      <th>25%</th>\n",
       "      <th>50%</th>\n",
       "      <th>75%</th>\n",
       "      <th>max</th>\n",
       "      <th>count</th>\n",
       "      <th>mean</th>\n",
       "      <th>std</th>\n",
       "      <th>min</th>\n",
       "      <th>25%</th>\n",
       "      <th>50%</th>\n",
       "      <th>75%</th>\n",
       "      <th>max</th>\n",
       "    </tr>\n",
       "    <tr>\n",
       "      <th>city</th>\n",
       "      <th></th>\n",
       "      <th></th>\n",
       "      <th></th>\n",
       "      <th></th>\n",
       "      <th></th>\n",
       "      <th></th>\n",
       "      <th></th>\n",
       "      <th></th>\n",
       "      <th></th>\n",
       "      <th></th>\n",
       "      <th></th>\n",
       "      <th></th>\n",
       "      <th></th>\n",
       "      <th></th>\n",
       "      <th></th>\n",
       "      <th></th>\n",
       "    </tr>\n",
       "  </thead>\n",
       "  <tbody>\n",
       "    <tr>\n",
       "      <th>Dhaka</th>\n",
       "      <td>5.0</td>\n",
       "      <td>34.800000</td>\n",
       "      <td>1.923538</td>\n",
       "      <td>32.0</td>\n",
       "      <td>34.00</td>\n",
       "      <td>35.0</td>\n",
       "      <td>36.00</td>\n",
       "      <td>37.0</td>\n",
       "      <td>5.0</td>\n",
       "      <td>4.200000</td>\n",
       "      <td>4.438468</td>\n",
       "      <td>1.0</td>\n",
       "      <td>2.00</td>\n",
       "      <td>3.0</td>\n",
       "      <td>3.00</td>\n",
       "      <td>12.0</td>\n",
       "    </tr>\n",
       "    <tr>\n",
       "      <th>mumbai</th>\n",
       "      <td>6.0</td>\n",
       "      <td>36.166667</td>\n",
       "      <td>11.303392</td>\n",
       "      <td>20.0</td>\n",
       "      <td>28.75</td>\n",
       "      <td>40.5</td>\n",
       "      <td>41.00</td>\n",
       "      <td>50.0</td>\n",
       "      <td>6.0</td>\n",
       "      <td>8.166667</td>\n",
       "      <td>5.382069</td>\n",
       "      <td>1.0</td>\n",
       "      <td>4.00</td>\n",
       "      <td>10.0</td>\n",
       "      <td>11.50</td>\n",
       "      <td>14.0</td>\n",
       "    </tr>\n",
       "    <tr>\n",
       "      <th>newyourk</th>\n",
       "      <td>6.0</td>\n",
       "      <td>22.666667</td>\n",
       "      <td>2.658320</td>\n",
       "      <td>20.0</td>\n",
       "      <td>20.25</td>\n",
       "      <td>22.5</td>\n",
       "      <td>24.75</td>\n",
       "      <td>26.0</td>\n",
       "      <td>6.0</td>\n",
       "      <td>3.333333</td>\n",
       "      <td>1.632993</td>\n",
       "      <td>1.0</td>\n",
       "      <td>2.25</td>\n",
       "      <td>3.5</td>\n",
       "      <td>4.75</td>\n",
       "      <td>5.0</td>\n",
       "    </tr>\n",
       "  </tbody>\n",
       "</table>\n",
       "</div>"
      ],
      "text/plain": [
       "           tem                                                        win   \\\n",
       "         count       mean        std   min    25%   50%    75%   max count   \n",
       "city                                                                         \n",
       "Dhaka      5.0  34.800000   1.923538  32.0  34.00  35.0  36.00  37.0   5.0   \n",
       "mumbai     6.0  36.166667  11.303392  20.0  28.75  40.5  41.00  50.0   6.0   \n",
       "newyourk   6.0  22.666667   2.658320  20.0  20.25  22.5  24.75  26.0   6.0   \n",
       "\n",
       "                                                            \n",
       "              mean       std  min   25%   50%    75%   max  \n",
       "city                                                        \n",
       "Dhaka     4.200000  4.438468  1.0  2.00   3.0   3.00  12.0  \n",
       "mumbai    8.166667  5.382069  1.0  4.00  10.0  11.50  14.0  \n",
       "newyourk  3.333333  1.632993  1.0  2.25   3.5   4.75   5.0  "
      ]
     },
     "execution_count": 17,
     "metadata": {},
     "output_type": "execute_result"
    }
   ],
   "source": [
    "g.describe()"
   ]
  },
  {
   "cell_type": "code",
   "execution_count": 19,
   "metadata": {},
   "outputs": [
    {
     "data": {
      "text/plain": [
       "city\n",
       "Dhaka       AxesSubplot(0.125,0.125;0.775x0.755)\n",
       "mumbai      AxesSubplot(0.125,0.125;0.775x0.755)\n",
       "newyourk    AxesSubplot(0.125,0.125;0.775x0.755)\n",
       "dtype: object"
      ]
     },
     "execution_count": 19,
     "metadata": {},
     "output_type": "execute_result"
    },
    {
     "data": {
      "image/png": "[encoded data removed]",
      "text/plain": [
       "<Figure size 432x288 with 1 Axes>"
      ]
     },
     "metadata": {
      "needs_background": "light"
     },
     "output_type": "display_data"
    },
    {
     "data": {
      "image/png": "[encoded data removed]",
      "text/plain": [
       "<Figure size 432x288 with 1 Axes>"
      ]
     },
     "metadata": {
      "needs_background": "light"
     },
     "output_type": "display_data"
    },
    {
     "data": {
      "image/png": "[encoded data removed]",
      "text/plain": [
       "<Figure size 432x288 with 1 Axes>"
      ]
     },
     "metadata": {
      "needs_background": "light"
     },
     "output_type": "display_data"
    }
   ],
   "source": [
    "%matplotlib inline\n",
    "g.plot()"
   ]
  },
  {
   "cell_type": "code",
   "execution_count": null,
   "metadata": {},
   "outputs": [],
   "source": []
  }
 ],
 "metadata": {
  "kernelspec": {
   "display_name": "Python 3",
   "language": "python",
   "name": "python3"
  },
  "language_info": {
   "codemirror_mode": {
    "name": "ipython",
    "version": 3
   },
   "file_extension": ".py",
   "mimetype": "text/x-python",
   "name": "python",
   "nbconvert_exporter": "python",
   "pygments_lexer": "ipython3",
   "version": "3.8.3"
  }
 },
 "nbformat": 4,
 "nbformat_minor": 4
}
